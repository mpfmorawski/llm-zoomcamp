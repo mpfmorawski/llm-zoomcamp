{
  "nbformat": 4,
  "nbformat_minor": 0,
  "metadata": {
    "colab": {
      "provenance": [],
      "gpuType": "T4"
    },
    "kernelspec": {
      "name": "python3",
      "display_name": "Python 3"
    },
    "language_info": {
      "name": "python"
    },
    "accelerator": "GPU"
  },
  "cells": [
    {
      "cell_type": "markdown",
      "source": [
        "## Part 1: Create a Notion -> LanceDB pipeline using dlt"
      ],
      "metadata": {
        "id": "pAGJAVLzZCDn"
      }
    },
    {
      "cell_type": "markdown",
      "source": [
        "### 1. Install requirements"
      ],
      "metadata": {
        "id": "b5zDmfFcwS5M"
      }
    },
    {
      "cell_type": "markdown",
      "source": [
        "To create a notion -> lancedb pipeline, we need to install:\n",
        "1. dlt with lancedb extras\n",
        "2. sentence-transformers: we need to use an embedding model to vectorize and store data inside LanceDB. For this we choose the open-source model \"sentence-transformers/all-MiniLM-L6-v2\"."
      ],
      "metadata": {
        "id": "aOUpcKhnwggh"
      }
    },
    {
      "cell_type": "code",
      "source": [
        "%%capture\n",
        "!pip install dlt[lancedb]==0.5.1a0\n",
        "!pip install sentence-transformers"
      ],
      "metadata": {
        "id": "vcQ6QseXKSHX"
      },
      "execution_count": 1,
      "outputs": []
    },
    {
      "cell_type": "markdown",
      "source": [
        "### 2. Create a dlt project with rest_api source and lancedb destination"
      ],
      "metadata": {
        "id": "_aqwtE-Owslg"
      }
    },
    {
      "cell_type": "markdown",
      "source": [
        "We now create a dlt project using the command `dlt init <source> <destination>`."
      ],
      "metadata": {
        "id": "sS6gu1f_cO7E"
      }
    },
    {
      "cell_type": "markdown",
      "source": [
        "This downloads all the modules required for the dlt source (rest api, in this case) into the local directory. See the side panel for the directory structure created."
      ],
      "metadata": {
        "id": "WFaBpJwzhkdT"
      }
    },
    {
      "cell_type": "code",
      "source": [
        "!yes | dlt init rest_api lancedb"
      ],
      "metadata": {
        "colab": {
          "base_uri": "https://localhost:8080/"
        },
        "id": "Gn5QwziOjqT9",
        "outputId": "37b5eb95-f3f1-4499-c383-2b660ccd2115"
      },
      "execution_count": 2,
      "outputs": [
        {
          "output_type": "stream",
          "name": "stdout",
          "text": [
            "Looking up the init scripts in \u001b[1mhttps://github.com/dlt-hub/verified-sources.git\u001b[0m...\n",
            "No files to update, exiting\n"
          ]
        }
      ]
    },
    {
      "cell_type": "markdown",
      "source": [
        "### 3. Add API credentials"
      ],
      "metadata": {
        "id": "NqjfumInhWLK"
      }
    },
    {
      "cell_type": "markdown",
      "source": [
        "**Note**: You will need to copy the [notion API key](https://share.1password.com/s#da9KgMwPaZUaey3WCaD7ICJoyHDGd3Xos2EZ29WrSWQ) into the secrets tab under the name `SOURCES__REST_API__NOTION__API_KEY`. Make sure to enable notebook access after pasting the key."
      ],
      "metadata": {
        "id": "J1nF956xoqyy"
      }
    },
    {
      "cell_type": "code",
      "source": [
        "import os\n",
        "from google.colab import userdata\n",
        "\n",
        "os.environ[\"SOURCES__REST_API__NOTION__API_KEY\"] = userdata.get(\"SOURCES__REST_API__NOTION__API_KEY\")\n",
        "\n",
        "os.environ[\"DESTINATION__LANCEDB__EMBEDDING_MODEL_PROVIDER\"] = \"sentence-transformers\"\n",
        "os.environ[\"DESTINATION__LANCEDB__EMBEDDING_MODEL\"] = \"all-MiniLM-L6-v2\"\n",
        "\n",
        "os.environ[\"DESTINATION__LANCEDB__CREDENTIALS__URI\"] = \".lancedb\""
      ],
      "metadata": {
        "id": "vSLP6qhNqafV"
      },
      "execution_count": 3,
      "outputs": []
    },
    {
      "cell_type": "markdown",
      "source": [
        "### 5. Run the pipeline"
      ],
      "metadata": {
        "id": "Ll95duMkuKDx"
      }
    },
    {
      "cell_type": "code",
      "source": [
        "import dlt\n",
        "from rest_api import RESTAPIConfig, rest_api_source\n",
        "\n",
        "from dlt.sources.helpers.rest_client.paginators import BasePaginator, JSONResponsePaginator\n",
        "from dlt.sources.helpers.requests import Response, Request\n",
        "\n",
        "from dlt.destinations.adapters import lancedb_adapter"
      ],
      "metadata": {
        "id": "bLsRDVyXpt6-"
      },
      "execution_count": 4,
      "outputs": []
    },
    {
      "cell_type": "markdown",
      "source": [
        "Run this block:"
      ],
      "metadata": {
        "id": "66l6khvmpDAD"
      }
    },
    {
      "cell_type": "code",
      "source": [
        "from datetime import datetime, timezone\n",
        "\n",
        "class PostBodyPaginator(BasePaginator):\n",
        "    def __init__(self):\n",
        "        super().__init__()\n",
        "        self.cursor = None\n",
        "\n",
        "    def update_state(self, response: Response) -> None:\n",
        "        # Assuming the API returns an empty list when no more data is available\n",
        "        if not response.json():\n",
        "            self._has_next_page = False\n",
        "        else:\n",
        "            self.cursor = response.json().get(\"next_cursor\")\n",
        "            if self.cursor is None:\n",
        "                self._has_next_page = False\n",
        "\n",
        "    def update_request(self, request: Request) -> None:\n",
        "        if request.json is None:\n",
        "            request.json = {}\n",
        "\n",
        "        # Add the cursor to the request body\n",
        "        request.json[\"start_cursor\"] = self.cursor\n",
        "\n",
        "@dlt.resource(name=\"employee_handbook\")\n",
        "def rest_api_notion_resource():\n",
        "    notion_config: RESTAPIConfig = {\n",
        "        \"client\": {\n",
        "            \"base_url\": \"https://api.notion.com/v1/\",\n",
        "            \"auth\": {\n",
        "                \"token\": dlt.secrets[\"sources.rest_api.notion.api_key\"]\n",
        "            },\n",
        "            \"headers\":{\n",
        "            \"Content-Type\": \"application/json\",\n",
        "            \"Notion-Version\": \"2022-06-28\"\n",
        "            }\n",
        "        },\n",
        "        \"resources\": [\n",
        "            {\n",
        "                \"name\": \"search\",\n",
        "                \"endpoint\": {\n",
        "                    \"path\": \"search\",\n",
        "                    \"method\": \"POST\",\n",
        "                    \"paginator\": PostBodyPaginator(),\n",
        "                    \"json\": {\n",
        "                        \"query\": \"workshop\",\n",
        "                        \"sort\": {\n",
        "                            \"direction\": \"ascending\",\n",
        "                            \"timestamp\": \"last_edited_time\"\n",
        "                        }\n",
        "                    },\n",
        "                    \"data_selector\": \"results\"\n",
        "                }\n",
        "            },\n",
        "            {\n",
        "                \"name\": \"page_content\",\n",
        "                \"endpoint\": {\n",
        "                    \"path\": \"blocks/{page_id}/children\",\n",
        "                    \"paginator\": JSONResponsePaginator(),\n",
        "                    \"params\": {\n",
        "                        \"page_id\": {\n",
        "                            \"type\": \"resolve\",\n",
        "                            \"resource\": \"search\",\n",
        "                            \"field\": \"id\"\n",
        "                        }\n",
        "                    },\n",
        "                }\n",
        "            }\n",
        "        ]\n",
        "    }\n",
        "\n",
        "    yield from rest_api_source(notion_config,name=\"employee_handbook\")\n",
        "\n",
        "def extract_page_content(response):\n",
        "    block_id = response[\"id\"]\n",
        "    last_edited_time = response[\"last_edited_time\"]\n",
        "    block_type = response.get(\"type\", \"Not paragraph\")\n",
        "    if block_type != \"paragraph\":\n",
        "        content = \"\"\n",
        "    else:\n",
        "        try:\n",
        "            content = response[\"paragraph\"][\"rich_text\"][0][\"plain_text\"]\n",
        "        except IndexError:\n",
        "            content = \"\"\n",
        "    return {\n",
        "        \"block_id\": block_id,\n",
        "        \"block_type\": block_type,\n",
        "        \"content\": content,\n",
        "        \"last_edited_time\": last_edited_time,\n",
        "        \"inserted_at_time\": datetime.now(timezone.utc)\n",
        "    }\n",
        "\n",
        "@dlt.resource(\n",
        "    name=\"employee_handbook\",\n",
        "    write_disposition=\"merge\",\n",
        "    primary_key=\"block_id\",\n",
        "    columns={\"last_edited_time\":{\"dedup_sort\":\"desc\"}}\n",
        "    )\n",
        "def rest_api_notion_incremental(\n",
        "    last_edited_time = dlt.sources.incremental(\"last_edited_time\", initial_value=\"2024-06-26T08:16:00.000Z\",primary_key=(\"block_id\"))\n",
        "):\n",
        "    # last_value = last_edited_time.last_value\n",
        "    # print(last_value)\n",
        "\n",
        "    for block in rest_api_notion_resource.add_map(extract_page_content):\n",
        "        if not(len(block[\"content\"])):\n",
        "            continue\n",
        "        yield block\n",
        "\n",
        "def load_notion() -> None:\n",
        "    pipeline = dlt.pipeline(\n",
        "        pipeline_name=\"company_policies\",\n",
        "        destination=\"lancedb\",\n",
        "        dataset_name=\"notion_pages\",\n",
        "        # full_refresh=True\n",
        "    )\n",
        "\n",
        "    load_info = pipeline.run(\n",
        "        lancedb_adapter(\n",
        "            rest_api_notion_incremental,\n",
        "            embed=\"content\"\n",
        "        ),\n",
        "        table_name=\"employee_handbook\",\n",
        "        write_disposition=\"merge\"\n",
        "    )\n",
        "    print(load_info)\n",
        "\n",
        "load_notion()"
      ],
      "metadata": {
        "colab": {
          "base_uri": "https://localhost:8080/"
        },
        "id": "3RzeKOoNUsyL",
        "outputId": "5ff7ac42-a604-4d16-b299-b72cfa26aa28"
      },
      "execution_count": 5,
      "outputs": [
        {
          "output_type": "stream",
          "name": "stdout",
          "text": [
            "Pipeline company_policies load step completed in ---\n",
            "0 load package(s) were loaded to destination LanceDB and into dataset None\n",
            "The LanceDB destination used <dlt.destinations.impl.lancedb.configuration.LanceDBCredentials object at 0x7a5a96fbbb50> location to store data\n"
          ]
        }
      ]
    },
    {
      "cell_type": "markdown",
      "source": [
        "### 6. Visualize the output"
      ],
      "metadata": {
        "id": "ps09cty1uN9r"
      }
    },
    {
      "cell_type": "code",
      "source": [
        "import lancedb\n",
        "\n",
        "db = lancedb.connect(\".lancedb\")\n",
        "dbtable = db.open_table(\"notion_pages___employee_handbook\")\n",
        "\n",
        "dbtable.to_pandas().sort_values(by='last_edited_time', ascending=False)"
      ],
      "metadata": {
        "colab": {
          "base_uri": "https://localhost:8080/",
          "height": 1000
        },
        "id": "B7hsT5i8Y24S",
        "outputId": "06fcaf7d-816b-4961-a5bf-df4c4f1846cd"
      },
      "execution_count": 6,
      "outputs": [
        {
          "output_type": "execute_result",
          "data": {
            "text/plain": [
              "                                    id__  \\\n",
              "9   cffdb1bb-a146-5e90-8fbb-a1d577a2a98e   \n",
              "0   71e89a85-ae0b-5b68-866b-bd3922ec7548   \n",
              "13  ff1141dc-88f6-500a-a8c3-c18e37661650   \n",
              "8   6adeb540-d180-5d40-bc84-c40e5c173ea1   \n",
              "10  25cd721d-fd64-517f-9b3b-34e3fad3522e   \n",
              "12  7a69c4c0-cd55-5090-903e-facf23eadde5   \n",
              "7   a9083b7e-22cc-5b1f-8040-cb7aa1f72338   \n",
              "6   579b97f9-a5e2-53af-b4f7-efc9ad5105ad   \n",
              "5   d0f801ba-d3cc-5252-ad6e-3285662b609c   \n",
              "4   b220778f-1118-5c22-b614-3bc0fd0a602b   \n",
              "3   93661874-13a2-5a43-bed8-868005dfd5e2   \n",
              "2   a18932d9-1583-5c42-bd0d-0f96738c5e6c   \n",
              "1   a28e913f-761f-5684-8cd5-0d0c49e0338c   \n",
              "11  c75b7ef9-96b6-551b-9cdd-795bbe01bb6e   \n",
              "\n",
              "                                             vector__  \\\n",
              "9   [-0.07571499, 0.14543605, 0.0011521844, -0.024...   \n",
              "0   [-0.05858811, -0.07540446, 0.033775203, 0.0096...   \n",
              "13  [0.03802633, -0.021509705, 0.04752782, 0.06470...   \n",
              "8   [-0.03892389, 0.1208173, 0.046208583, -0.00543...   \n",
              "10  [-0.109743185, 0.10586075, 0.003290699, -0.021...   \n",
              "12  [0.00052337867, -0.054883413, 0.043573413, -0....   \n",
              "7   [-0.031538427, 0.0342599, -0.027282646, 0.0275...   \n",
              "6   [-0.007314052, 0.014710642, -0.019091193, 0.02...   \n",
              "5   [0.03252615, 0.008159476, 0.08443566, 0.055641...   \n",
              "4   [0.027987516, 0.067343615, 0.03980646, 0.00774...   \n",
              "3   [-0.0131553095, 0.008382407, 0.017044391, 0.05...   \n",
              "2   [0.032060888, 0.024244698, 0.008471344, 0.0317...   \n",
              "1   [-0.004968941, -0.003911972, 0.028705625, 0.00...   \n",
              "11  [0.050755523, -0.06461991, 0.06527383, 0.01465...   \n",
              "\n",
              "                                block_id block_type  \\\n",
              "9   0e429073-6383-4918-8961-fcc66346067f  paragraph   \n",
              "0   c0262981-b5f1-4a57-a91f-2e75f649b86c  paragraph   \n",
              "13  a4b2f0c9-e0c8-4b3c-81e7-ef624809977d  paragraph   \n",
              "8   baac0ba4-9b60-450e-8cc1-1e6e2a0fb7d9  paragraph   \n",
              "10  f4e006d7-9b38-49e9-94cf-552beaa75773  paragraph   \n",
              "12  cd15aaf5-6cdc-4a13-835c-2181fd7bf81e  paragraph   \n",
              "7   5bfa90c5-461d-406a-9324-a1dd54bad0d5  paragraph   \n",
              "6   b1718dee-8c0f-4189-8c75-0e8c7844a501  paragraph   \n",
              "5   bd7a9110-fac5-4270-9493-4039ca67b467  paragraph   \n",
              "4   ea7a1beb-6874-4f41-966d-dc1f80a1f635  paragraph   \n",
              "3   b8f4cc6d-c28c-4071-9545-caadce5eb37b  paragraph   \n",
              "2   e6021a51-f403-4950-80c2-ebff005c7289  paragraph   \n",
              "1   faacf4ec-90be-4e96-b8b9-29b5112bc7ca  paragraph   \n",
              "11  71618ca5-6c62-4b66-bc0f-3d855e0c4b8b  paragraph   \n",
              "\n",
              "                                              content  \\\n",
              "9   {edited} Employee health is important to us. W...   \n",
              "0   Our company operates between 9 a.m. to 7 p.m. ...   \n",
              "13  There are some expenses that we will pay direc...   \n",
              "8   In this section, we describe what we offer to ...   \n",
              "10  Our company is dedicated to maintaining a safe...   \n",
              "12  Remote working refers to working from a non-of...   \n",
              "7   We recognize the vital role that fathers and p...   \n",
              "6   In accordance with German law, we offer a comp...   \n",
              "5   Losing a loved one is traumatizing. If this ha...   \n",
              "4   Employees who are unable to work due to illnes...   \n",
              "3   These holidays are considered “off-days” for m...   \n",
              "2   Our company observes the following holidays: N...   \n",
              "1   Employees receive [20 days] of Paid Time Off (...   \n",
              "11  If your job doesn’t require you to be present ...   \n",
              "\n",
              "            last_edited_time                 inserted_at_time  \\\n",
              "9  2024-07-18 17:28:00+00:00 2024-07-22 22:57:11.492750+00:00   \n",
              "0  2024-07-18 14:00:00+00:00 2024-07-22 22:57:11.294514+00:00   \n",
              "13 2024-07-05 22:32:00+00:00 2024-07-22 22:57:11.493370+00:00   \n",
              "8  2024-07-03 17:34:00+00:00 2024-07-22 22:57:11.492457+00:00   \n",
              "10 2024-07-03 17:26:00+00:00 2024-07-22 22:57:11.492910+00:00   \n",
              "12 2024-07-03 17:19:00+00:00 2024-07-22 22:57:11.493223+00:00   \n",
              "7  2024-06-26 09:21:00+00:00 2024-07-22 22:57:11.299167+00:00   \n",
              "6  2024-06-26 09:20:00+00:00 2024-07-22 22:57:11.299012+00:00   \n",
              "5  2024-06-26 09:17:00+00:00 2024-07-22 22:57:11.298865+00:00   \n",
              "4  2024-06-26 09:11:00+00:00 2024-07-22 22:57:11.298715+00:00   \n",
              "3  2024-06-26 09:09:00+00:00 2024-07-22 22:57:11.298560+00:00   \n",
              "2  2024-06-26 09:08:00+00:00 2024-07-22 22:57:11.298394+00:00   \n",
              "1  2024-06-26 09:03:00+00:00 2024-07-22 22:57:11.298189+00:00   \n",
              "11 2024-06-26 08:52:00+00:00 2024-07-22 22:57:11.493071+00:00   \n",
              "\n",
              "         _dlt_load_id         _dlt_id  \n",
              "9   1721689030.595008  3IBb64eoIrFcAA  \n",
              "0   1721689030.595008  +6yBw8VkXZ5mgw  \n",
              "13  1721689030.595008  50UgMYA9gn76Dg  \n",
              "8   1721689030.595008  BSYquVpGXoDsuw  \n",
              "10  1721689030.595008  tHMMLd9n3WmfFQ  \n",
              "12  1721689030.595008  E3Pz0SYrNVXr+w  \n",
              "7   1721689030.595008  ki2FeE/dcfnzeQ  \n",
              "6   1721689030.595008  7CdrbEdscg51/g  \n",
              "5   1721689030.595008  tvvUnE9LJqWXcQ  \n",
              "4   1721689030.595008  GzgJIfreGxtTQQ  \n",
              "3   1721689030.595008  JdSJkzN3OchRSQ  \n",
              "2   1721689030.595008  TqVJ0wouSc0BhQ  \n",
              "1   1721689030.595008  ozj+E+PbH6OrYw  \n",
              "11  1721689030.595008  yynNxzrHLlfvrw  "
            ],
            "text/html": [
              "\n",
              "  <div id=\"df-83914c6b-243b-4fd3-b94f-b4b33589d08a\" class=\"colab-df-container\">\n",
              "    <div>\n",
              "<style scoped>\n",
              "    .dataframe tbody tr th:only-of-type {\n",
              "        vertical-align: middle;\n",
              "    }\n",
              "\n",
              "    .dataframe tbody tr th {\n",
              "        vertical-align: top;\n",
              "    }\n",
              "\n",
              "    .dataframe thead th {\n",
              "        text-align: right;\n",
              "    }\n",
              "</style>\n",
              "<table border=\"1\" class=\"dataframe\">\n",
              "  <thead>\n",
              "    <tr style=\"text-align: right;\">\n",
              "      <th></th>\n",
              "      <th>id__</th>\n",
              "      <th>vector__</th>\n",
              "      <th>block_id</th>\n",
              "      <th>block_type</th>\n",
              "      <th>content</th>\n",
              "      <th>last_edited_time</th>\n",
              "      <th>inserted_at_time</th>\n",
              "      <th>_dlt_load_id</th>\n",
              "      <th>_dlt_id</th>\n",
              "    </tr>\n",
              "  </thead>\n",
              "  <tbody>\n",
              "    <tr>\n",
              "      <th>9</th>\n",
              "      <td>cffdb1bb-a146-5e90-8fbb-a1d577a2a98e</td>\n",
              "      <td>[-0.07571499, 0.14543605, 0.0011521844, -0.024...</td>\n",
              "      <td>0e429073-6383-4918-8961-fcc66346067f</td>\n",
              "      <td>paragraph</td>\n",
              "      <td>{edited} Employee health is important to us. W...</td>\n",
              "      <td>2024-07-18 17:28:00+00:00</td>\n",
              "      <td>2024-07-22 22:57:11.492750+00:00</td>\n",
              "      <td>1721689030.595008</td>\n",
              "      <td>3IBb64eoIrFcAA</td>\n",
              "    </tr>\n",
              "    <tr>\n",
              "      <th>0</th>\n",
              "      <td>71e89a85-ae0b-5b68-866b-bd3922ec7548</td>\n",
              "      <td>[-0.05858811, -0.07540446, 0.033775203, 0.0096...</td>\n",
              "      <td>c0262981-b5f1-4a57-a91f-2e75f649b86c</td>\n",
              "      <td>paragraph</td>\n",
              "      <td>Our company operates between 9 a.m. to 7 p.m. ...</td>\n",
              "      <td>2024-07-18 14:00:00+00:00</td>\n",
              "      <td>2024-07-22 22:57:11.294514+00:00</td>\n",
              "      <td>1721689030.595008</td>\n",
              "      <td>+6yBw8VkXZ5mgw</td>\n",
              "    </tr>\n",
              "    <tr>\n",
              "      <th>13</th>\n",
              "      <td>ff1141dc-88f6-500a-a8c3-c18e37661650</td>\n",
              "      <td>[0.03802633, -0.021509705, 0.04752782, 0.06470...</td>\n",
              "      <td>a4b2f0c9-e0c8-4b3c-81e7-ef624809977d</td>\n",
              "      <td>paragraph</td>\n",
              "      <td>There are some expenses that we will pay direc...</td>\n",
              "      <td>2024-07-05 22:32:00+00:00</td>\n",
              "      <td>2024-07-22 22:57:11.493370+00:00</td>\n",
              "      <td>1721689030.595008</td>\n",
              "      <td>50UgMYA9gn76Dg</td>\n",
              "    </tr>\n",
              "    <tr>\n",
              "      <th>8</th>\n",
              "      <td>6adeb540-d180-5d40-bc84-c40e5c173ea1</td>\n",
              "      <td>[-0.03892389, 0.1208173, 0.046208583, -0.00543...</td>\n",
              "      <td>baac0ba4-9b60-450e-8cc1-1e6e2a0fb7d9</td>\n",
              "      <td>paragraph</td>\n",
              "      <td>In this section, we describe what we offer to ...</td>\n",
              "      <td>2024-07-03 17:34:00+00:00</td>\n",
              "      <td>2024-07-22 22:57:11.492457+00:00</td>\n",
              "      <td>1721689030.595008</td>\n",
              "      <td>BSYquVpGXoDsuw</td>\n",
              "    </tr>\n",
              "    <tr>\n",
              "      <th>10</th>\n",
              "      <td>25cd721d-fd64-517f-9b3b-34e3fad3522e</td>\n",
              "      <td>[-0.109743185, 0.10586075, 0.003290699, -0.021...</td>\n",
              "      <td>f4e006d7-9b38-49e9-94cf-552beaa75773</td>\n",
              "      <td>paragraph</td>\n",
              "      <td>Our company is dedicated to maintaining a safe...</td>\n",
              "      <td>2024-07-03 17:26:00+00:00</td>\n",
              "      <td>2024-07-22 22:57:11.492910+00:00</td>\n",
              "      <td>1721689030.595008</td>\n",
              "      <td>tHMMLd9n3WmfFQ</td>\n",
              "    </tr>\n",
              "    <tr>\n",
              "      <th>12</th>\n",
              "      <td>7a69c4c0-cd55-5090-903e-facf23eadde5</td>\n",
              "      <td>[0.00052337867, -0.054883413, 0.043573413, -0....</td>\n",
              "      <td>cd15aaf5-6cdc-4a13-835c-2181fd7bf81e</td>\n",
              "      <td>paragraph</td>\n",
              "      <td>Remote working refers to working from a non-of...</td>\n",
              "      <td>2024-07-03 17:19:00+00:00</td>\n",
              "      <td>2024-07-22 22:57:11.493223+00:00</td>\n",
              "      <td>1721689030.595008</td>\n",
              "      <td>E3Pz0SYrNVXr+w</td>\n",
              "    </tr>\n",
              "    <tr>\n",
              "      <th>7</th>\n",
              "      <td>a9083b7e-22cc-5b1f-8040-cb7aa1f72338</td>\n",
              "      <td>[-0.031538427, 0.0342599, -0.027282646, 0.0275...</td>\n",
              "      <td>5bfa90c5-461d-406a-9324-a1dd54bad0d5</td>\n",
              "      <td>paragraph</td>\n",
              "      <td>We recognize the vital role that fathers and p...</td>\n",
              "      <td>2024-06-26 09:21:00+00:00</td>\n",
              "      <td>2024-07-22 22:57:11.299167+00:00</td>\n",
              "      <td>1721689030.595008</td>\n",
              "      <td>ki2FeE/dcfnzeQ</td>\n",
              "    </tr>\n",
              "    <tr>\n",
              "      <th>6</th>\n",
              "      <td>579b97f9-a5e2-53af-b4f7-efc9ad5105ad</td>\n",
              "      <td>[-0.007314052, 0.014710642, -0.019091193, 0.02...</td>\n",
              "      <td>b1718dee-8c0f-4189-8c75-0e8c7844a501</td>\n",
              "      <td>paragraph</td>\n",
              "      <td>In accordance with German law, we offer a comp...</td>\n",
              "      <td>2024-06-26 09:20:00+00:00</td>\n",
              "      <td>2024-07-22 22:57:11.299012+00:00</td>\n",
              "      <td>1721689030.595008</td>\n",
              "      <td>7CdrbEdscg51/g</td>\n",
              "    </tr>\n",
              "    <tr>\n",
              "      <th>5</th>\n",
              "      <td>d0f801ba-d3cc-5252-ad6e-3285662b609c</td>\n",
              "      <td>[0.03252615, 0.008159476, 0.08443566, 0.055641...</td>\n",
              "      <td>bd7a9110-fac5-4270-9493-4039ca67b467</td>\n",
              "      <td>paragraph</td>\n",
              "      <td>Losing a loved one is traumatizing. If this ha...</td>\n",
              "      <td>2024-06-26 09:17:00+00:00</td>\n",
              "      <td>2024-07-22 22:57:11.298865+00:00</td>\n",
              "      <td>1721689030.595008</td>\n",
              "      <td>tvvUnE9LJqWXcQ</td>\n",
              "    </tr>\n",
              "    <tr>\n",
              "      <th>4</th>\n",
              "      <td>b220778f-1118-5c22-b614-3bc0fd0a602b</td>\n",
              "      <td>[0.027987516, 0.067343615, 0.03980646, 0.00774...</td>\n",
              "      <td>ea7a1beb-6874-4f41-966d-dc1f80a1f635</td>\n",
              "      <td>paragraph</td>\n",
              "      <td>Employees who are unable to work due to illnes...</td>\n",
              "      <td>2024-06-26 09:11:00+00:00</td>\n",
              "      <td>2024-07-22 22:57:11.298715+00:00</td>\n",
              "      <td>1721689030.595008</td>\n",
              "      <td>GzgJIfreGxtTQQ</td>\n",
              "    </tr>\n",
              "    <tr>\n",
              "      <th>3</th>\n",
              "      <td>93661874-13a2-5a43-bed8-868005dfd5e2</td>\n",
              "      <td>[-0.0131553095, 0.008382407, 0.017044391, 0.05...</td>\n",
              "      <td>b8f4cc6d-c28c-4071-9545-caadce5eb37b</td>\n",
              "      <td>paragraph</td>\n",
              "      <td>These holidays are considered “off-days” for m...</td>\n",
              "      <td>2024-06-26 09:09:00+00:00</td>\n",
              "      <td>2024-07-22 22:57:11.298560+00:00</td>\n",
              "      <td>1721689030.595008</td>\n",
              "      <td>JdSJkzN3OchRSQ</td>\n",
              "    </tr>\n",
              "    <tr>\n",
              "      <th>2</th>\n",
              "      <td>a18932d9-1583-5c42-bd0d-0f96738c5e6c</td>\n",
              "      <td>[0.032060888, 0.024244698, 0.008471344, 0.0317...</td>\n",
              "      <td>e6021a51-f403-4950-80c2-ebff005c7289</td>\n",
              "      <td>paragraph</td>\n",
              "      <td>Our company observes the following holidays: N...</td>\n",
              "      <td>2024-06-26 09:08:00+00:00</td>\n",
              "      <td>2024-07-22 22:57:11.298394+00:00</td>\n",
              "      <td>1721689030.595008</td>\n",
              "      <td>TqVJ0wouSc0BhQ</td>\n",
              "    </tr>\n",
              "    <tr>\n",
              "      <th>1</th>\n",
              "      <td>a28e913f-761f-5684-8cd5-0d0c49e0338c</td>\n",
              "      <td>[-0.004968941, -0.003911972, 0.028705625, 0.00...</td>\n",
              "      <td>faacf4ec-90be-4e96-b8b9-29b5112bc7ca</td>\n",
              "      <td>paragraph</td>\n",
              "      <td>Employees receive [20 days] of Paid Time Off (...</td>\n",
              "      <td>2024-06-26 09:03:00+00:00</td>\n",
              "      <td>2024-07-22 22:57:11.298189+00:00</td>\n",
              "      <td>1721689030.595008</td>\n",
              "      <td>ozj+E+PbH6OrYw</td>\n",
              "    </tr>\n",
              "    <tr>\n",
              "      <th>11</th>\n",
              "      <td>c75b7ef9-96b6-551b-9cdd-795bbe01bb6e</td>\n",
              "      <td>[0.050755523, -0.06461991, 0.06527383, 0.01465...</td>\n",
              "      <td>71618ca5-6c62-4b66-bc0f-3d855e0c4b8b</td>\n",
              "      <td>paragraph</td>\n",
              "      <td>If your job doesn’t require you to be present ...</td>\n",
              "      <td>2024-06-26 08:52:00+00:00</td>\n",
              "      <td>2024-07-22 22:57:11.493071+00:00</td>\n",
              "      <td>1721689030.595008</td>\n",
              "      <td>yynNxzrHLlfvrw</td>\n",
              "    </tr>\n",
              "  </tbody>\n",
              "</table>\n",
              "</div>\n",
              "    <div class=\"colab-df-buttons\">\n",
              "\n",
              "  <div class=\"colab-df-container\">\n",
              "    <button class=\"colab-df-convert\" onclick=\"convertToInteractive('df-83914c6b-243b-4fd3-b94f-b4b33589d08a')\"\n",
              "            title=\"Convert this dataframe to an interactive table.\"\n",
              "            style=\"display:none;\">\n",
              "\n",
              "  <svg xmlns=\"http://www.w3.org/2000/svg\" height=\"24px\" viewBox=\"0 -960 960 960\">\n",
              "    <path d=\"M120-120v-720h720v720H120Zm60-500h600v-160H180v160Zm220 220h160v-160H400v160Zm0 220h160v-160H400v160ZM180-400h160v-160H180v160Zm440 0h160v-160H620v160ZM180-180h160v-160H180v160Zm440 0h160v-160H620v160Z\"/>\n",
              "  </svg>\n",
              "    </button>\n",
              "\n",
              "  <style>\n",
              "    .colab-df-container {\n",
              "      display:flex;\n",
              "      gap: 12px;\n",
              "    }\n",
              "\n",
              "    .colab-df-convert {\n",
              "      background-color: #E8F0FE;\n",
              "      border: none;\n",
              "      border-radius: 50%;\n",
              "      cursor: pointer;\n",
              "      display: none;\n",
              "      fill: #1967D2;\n",
              "      height: 32px;\n",
              "      padding: 0 0 0 0;\n",
              "      width: 32px;\n",
              "    }\n",
              "\n",
              "    .colab-df-convert:hover {\n",
              "      background-color: #E2EBFA;\n",
              "      box-shadow: 0px 1px 2px rgba(60, 64, 67, 0.3), 0px 1px 3px 1px rgba(60, 64, 67, 0.15);\n",
              "      fill: #174EA6;\n",
              "    }\n",
              "\n",
              "    .colab-df-buttons div {\n",
              "      margin-bottom: 4px;\n",
              "    }\n",
              "\n",
              "    [theme=dark] .colab-df-convert {\n",
              "      background-color: #3B4455;\n",
              "      fill: #D2E3FC;\n",
              "    }\n",
              "\n",
              "    [theme=dark] .colab-df-convert:hover {\n",
              "      background-color: #434B5C;\n",
              "      box-shadow: 0px 1px 3px 1px rgba(0, 0, 0, 0.15);\n",
              "      filter: drop-shadow(0px 1px 2px rgba(0, 0, 0, 0.3));\n",
              "      fill: #FFFFFF;\n",
              "    }\n",
              "  </style>\n",
              "\n",
              "    <script>\n",
              "      const buttonEl =\n",
              "        document.querySelector('#df-83914c6b-243b-4fd3-b94f-b4b33589d08a button.colab-df-convert');\n",
              "      buttonEl.style.display =\n",
              "        google.colab.kernel.accessAllowed ? 'block' : 'none';\n",
              "\n",
              "      async function convertToInteractive(key) {\n",
              "        const element = document.querySelector('#df-83914c6b-243b-4fd3-b94f-b4b33589d08a');\n",
              "        const dataTable =\n",
              "          await google.colab.kernel.invokeFunction('convertToInteractive',\n",
              "                                                    [key], {});\n",
              "        if (!dataTable) return;\n",
              "\n",
              "        const docLinkHtml = 'Like what you see? Visit the ' +\n",
              "          '<a target=\"_blank\" href=https://colab.research.google.com/notebooks/data_table.ipynb>data table notebook</a>'\n",
              "          + ' to learn more about interactive tables.';\n",
              "        element.innerHTML = '';\n",
              "        dataTable['output_type'] = 'display_data';\n",
              "        await google.colab.output.renderOutput(dataTable, element);\n",
              "        const docLink = document.createElement('div');\n",
              "        docLink.innerHTML = docLinkHtml;\n",
              "        element.appendChild(docLink);\n",
              "      }\n",
              "    </script>\n",
              "  </div>\n",
              "\n",
              "\n",
              "<div id=\"df-4bdae1b5-c789-4f62-8954-6b20b9c3026a\">\n",
              "  <button class=\"colab-df-quickchart\" onclick=\"quickchart('df-4bdae1b5-c789-4f62-8954-6b20b9c3026a')\"\n",
              "            title=\"Suggest charts\"\n",
              "            style=\"display:none;\">\n",
              "\n",
              "<svg xmlns=\"http://www.w3.org/2000/svg\" height=\"24px\"viewBox=\"0 0 24 24\"\n",
              "     width=\"24px\">\n",
              "    <g>\n",
              "        <path d=\"M19 3H5c-1.1 0-2 .9-2 2v14c0 1.1.9 2 2 2h14c1.1 0 2-.9 2-2V5c0-1.1-.9-2-2-2zM9 17H7v-7h2v7zm4 0h-2V7h2v10zm4 0h-2v-4h2v4z\"/>\n",
              "    </g>\n",
              "</svg>\n",
              "  </button>\n",
              "\n",
              "<style>\n",
              "  .colab-df-quickchart {\n",
              "      --bg-color: #E8F0FE;\n",
              "      --fill-color: #1967D2;\n",
              "      --hover-bg-color: #E2EBFA;\n",
              "      --hover-fill-color: #174EA6;\n",
              "      --disabled-fill-color: #AAA;\n",
              "      --disabled-bg-color: #DDD;\n",
              "  }\n",
              "\n",
              "  [theme=dark] .colab-df-quickchart {\n",
              "      --bg-color: #3B4455;\n",
              "      --fill-color: #D2E3FC;\n",
              "      --hover-bg-color: #434B5C;\n",
              "      --hover-fill-color: #FFFFFF;\n",
              "      --disabled-bg-color: #3B4455;\n",
              "      --disabled-fill-color: #666;\n",
              "  }\n",
              "\n",
              "  .colab-df-quickchart {\n",
              "    background-color: var(--bg-color);\n",
              "    border: none;\n",
              "    border-radius: 50%;\n",
              "    cursor: pointer;\n",
              "    display: none;\n",
              "    fill: var(--fill-color);\n",
              "    height: 32px;\n",
              "    padding: 0;\n",
              "    width: 32px;\n",
              "  }\n",
              "\n",
              "  .colab-df-quickchart:hover {\n",
              "    background-color: var(--hover-bg-color);\n",
              "    box-shadow: 0 1px 2px rgba(60, 64, 67, 0.3), 0 1px 3px 1px rgba(60, 64, 67, 0.15);\n",
              "    fill: var(--button-hover-fill-color);\n",
              "  }\n",
              "\n",
              "  .colab-df-quickchart-complete:disabled,\n",
              "  .colab-df-quickchart-complete:disabled:hover {\n",
              "    background-color: var(--disabled-bg-color);\n",
              "    fill: var(--disabled-fill-color);\n",
              "    box-shadow: none;\n",
              "  }\n",
              "\n",
              "  .colab-df-spinner {\n",
              "    border: 2px solid var(--fill-color);\n",
              "    border-color: transparent;\n",
              "    border-bottom-color: var(--fill-color);\n",
              "    animation:\n",
              "      spin 1s steps(1) infinite;\n",
              "  }\n",
              "\n",
              "  @keyframes spin {\n",
              "    0% {\n",
              "      border-color: transparent;\n",
              "      border-bottom-color: var(--fill-color);\n",
              "      border-left-color: var(--fill-color);\n",
              "    }\n",
              "    20% {\n",
              "      border-color: transparent;\n",
              "      border-left-color: var(--fill-color);\n",
              "      border-top-color: var(--fill-color);\n",
              "    }\n",
              "    30% {\n",
              "      border-color: transparent;\n",
              "      border-left-color: var(--fill-color);\n",
              "      border-top-color: var(--fill-color);\n",
              "      border-right-color: var(--fill-color);\n",
              "    }\n",
              "    40% {\n",
              "      border-color: transparent;\n",
              "      border-right-color: var(--fill-color);\n",
              "      border-top-color: var(--fill-color);\n",
              "    }\n",
              "    60% {\n",
              "      border-color: transparent;\n",
              "      border-right-color: var(--fill-color);\n",
              "    }\n",
              "    80% {\n",
              "      border-color: transparent;\n",
              "      border-right-color: var(--fill-color);\n",
              "      border-bottom-color: var(--fill-color);\n",
              "    }\n",
              "    90% {\n",
              "      border-color: transparent;\n",
              "      border-bottom-color: var(--fill-color);\n",
              "    }\n",
              "  }\n",
              "</style>\n",
              "\n",
              "  <script>\n",
              "    async function quickchart(key) {\n",
              "      const quickchartButtonEl =\n",
              "        document.querySelector('#' + key + ' button');\n",
              "      quickchartButtonEl.disabled = true;  // To prevent multiple clicks.\n",
              "      quickchartButtonEl.classList.add('colab-df-spinner');\n",
              "      try {\n",
              "        const charts = await google.colab.kernel.invokeFunction(\n",
              "            'suggestCharts', [key], {});\n",
              "      } catch (error) {\n",
              "        console.error('Error during call to suggestCharts:', error);\n",
              "      }\n",
              "      quickchartButtonEl.classList.remove('colab-df-spinner');\n",
              "      quickchartButtonEl.classList.add('colab-df-quickchart-complete');\n",
              "    }\n",
              "    (() => {\n",
              "      let quickchartButtonEl =\n",
              "        document.querySelector('#df-4bdae1b5-c789-4f62-8954-6b20b9c3026a button');\n",
              "      quickchartButtonEl.style.display =\n",
              "        google.colab.kernel.accessAllowed ? 'block' : 'none';\n",
              "    })();\n",
              "  </script>\n",
              "</div>\n",
              "\n",
              "    </div>\n",
              "  </div>\n"
            ],
            "application/vnd.google.colaboratory.intrinsic+json": {
              "type": "dataframe",
              "summary": "{\n  \"name\": \"dbtable\",\n  \"rows\": 14,\n  \"fields\": [\n    {\n      \"column\": \"id__\",\n      \"properties\": {\n        \"dtype\": \"string\",\n        \"num_unique_values\": 14,\n        \"samples\": [\n          \"b220778f-1118-5c22-b614-3bc0fd0a602b\",\n          \"a18932d9-1583-5c42-bd0d-0f96738c5e6c\",\n          \"cffdb1bb-a146-5e90-8fbb-a1d577a2a98e\"\n        ],\n        \"semantic_type\": \"\",\n        \"description\": \"\"\n      }\n    },\n    {\n      \"column\": \"vector__\",\n      \"properties\": {\n        \"dtype\": \"object\",\n        \"semantic_type\": \"\",\n        \"description\": \"\"\n      }\n    },\n    {\n      \"column\": \"block_id\",\n      \"properties\": {\n        \"dtype\": \"string\",\n        \"num_unique_values\": 14,\n        \"samples\": [\n          \"ea7a1beb-6874-4f41-966d-dc1f80a1f635\",\n          \"e6021a51-f403-4950-80c2-ebff005c7289\",\n          \"0e429073-6383-4918-8961-fcc66346067f\"\n        ],\n        \"semantic_type\": \"\",\n        \"description\": \"\"\n      }\n    },\n    {\n      \"column\": \"block_type\",\n      \"properties\": {\n        \"dtype\": \"category\",\n        \"num_unique_values\": 1,\n        \"samples\": [\n          \"paragraph\"\n        ],\n        \"semantic_type\": \"\",\n        \"description\": \"\"\n      }\n    },\n    {\n      \"column\": \"content\",\n      \"properties\": {\n        \"dtype\": \"string\",\n        \"num_unique_values\": 14,\n        \"samples\": [\n          \"Employees who are unable to work due to illness or injury are entitled to sick leave with continued payment of their salary for up to six weeks. To qualify for sick leave, employees must promptly inform their supervisor and provide a medical certificate (Arbeitsunf\\u00e4higkeitsbescheinigung) from a doctor if the illness extends beyond three consecutive calendar days. After the six-week period, employees may be eligible for statutory sick pay (Krankengeld) from their health insurance provider. We are committed to supporting our employees during their recovery and encourage them to take the necessary time off to regain their health. For further details on the sick leave policy and procedures, please consult the employee handbook or contact the Human Resources department.\"\n        ],\n        \"semantic_type\": \"\",\n        \"description\": \"\"\n      }\n    },\n    {\n      \"column\": \"last_edited_time\",\n      \"properties\": {\n        \"dtype\": \"date\",\n        \"min\": \"2024-06-26 08:52:00+00:00\",\n        \"max\": \"2024-07-18 17:28:00+00:00\",\n        \"num_unique_values\": 14,\n        \"samples\": [\n          \"2024-06-26 09:11:00+00:00\"\n        ],\n        \"semantic_type\": \"\",\n        \"description\": \"\"\n      }\n    },\n    {\n      \"column\": \"inserted_at_time\",\n      \"properties\": {\n        \"dtype\": \"date\",\n        \"min\": \"2024-07-22 22:57:11.294514+00:00\",\n        \"max\": \"2024-07-22 22:57:11.493370+00:00\",\n        \"num_unique_values\": 14,\n        \"samples\": [\n          \"2024-07-22 22:57:11.298715+00:00\"\n        ],\n        \"semantic_type\": \"\",\n        \"description\": \"\"\n      }\n    },\n    {\n      \"column\": \"_dlt_load_id\",\n      \"properties\": {\n        \"dtype\": \"category\",\n        \"num_unique_values\": 1,\n        \"samples\": [\n          \"1721689030.595008\"\n        ],\n        \"semantic_type\": \"\",\n        \"description\": \"\"\n      }\n    },\n    {\n      \"column\": \"_dlt_id\",\n      \"properties\": {\n        \"dtype\": \"string\",\n        \"num_unique_values\": 14,\n        \"samples\": [\n          \"GzgJIfreGxtTQQ\"\n        ],\n        \"semantic_type\": \"\",\n        \"description\": \"\"\n      }\n    }\n  ]\n}"
            }
          },
          "metadata": {},
          "execution_count": 6
        }
      ]
    },
    {
      "cell_type": "markdown",
      "source": [
        " ---"
      ],
      "metadata": {
        "id": "-4e3NR7a06eE"
      }
    },
    {
      "cell_type": "markdown",
      "source": [
        "Now we make change to one of the paragraphs and run the pipeline again to see the effect of incremental loading. We observe two things:\n",
        "1. The column `inserted_at_time` only changed for the updated row, implying that only this row was added\n",
        "2. Looking at the primary key `block_id` we see that the original row was dropped and the updated row was inserted"
      ],
      "metadata": {
        "id": "A-3A-YWGuRCi"
      }
    },
    {
      "cell_type": "markdown",
      "source": [
        "## Part 2: Create a RAG bot using Ollama"
      ],
      "metadata": {
        "id": "WuG395sV1rqb"
      }
    },
    {
      "cell_type": "markdown",
      "source": [
        "With the contents from the employee handbook vectorized and stored in LanceDB, we're now ready to create our RAG with Ollama.\n"
      ],
      "metadata": {
        "id": "IDzsT3Ms2KgC"
      }
    },
    {
      "cell_type": "markdown",
      "source": [
        "\n",
        "What is RAG?\n",
        "\n",
        "Retrieval Automated Generation (RAG) is the framework of retrieving relevant documents from a database and passing it along with a query into an LLM so that the LLM can generate context-aware responses.\n",
        "\n",
        "In our case, if we were to ask an LLM questions about our specific employee policies, then we would not get useful responses because the LLM has never seen these policies. A solution to this could be to paste all of the policies into the prompt and then ask our questions. However, this would not be feasible given the limitations on the size of the context window.\n",
        "\n",
        "We can bypass this limitation using RAG:\n",
        "1. Given a user question, we would first embed this question into a vector\n",
        "2. Then we would do a vector search on our LanceDB table and retrieve top k results - which would be the most relevant paragraphs corresponding to the question\n",
        "3. Finally, we would pass the original question along with the retrieved paragraphs as a prompt into the LLM\n"
      ],
      "metadata": {
        "id": "Zln7JnrO11NQ"
      }
    },
    {
      "cell_type": "markdown",
      "source": [
        "1. Install Ollama into the notebook's local runtime"
      ],
      "metadata": {
        "id": "Fqvsji-Vuilq"
      }
    },
    {
      "cell_type": "code",
      "source": [
        "!curl -fsSL https://ollama.com/install.sh | sh"
      ],
      "metadata": {
        "colab": {
          "base_uri": "https://localhost:8080/"
        },
        "id": "kITCoZv85Ag5",
        "outputId": "82157bcf-f2f4-4176-c0a9-033479825b8a"
      },
      "execution_count": 7,
      "outputs": [
        {
          "output_type": "stream",
          "name": "stdout",
          "text": [
            ">>> Downloading ollama...\n",
            "############################################################################################# 100.0%\n",
            ">>> Installing ollama to /usr/local/bin...\n",
            ">>> Adding ollama user to video group...\n",
            ">>> Adding current user to ollama group...\n",
            ">>> Creating ollama systemd service...\n",
            "WARNING: Unable to detect NVIDIA/AMD GPU. Install lspci or lshw to automatically detect and install GPU dependencies.\n",
            ">>> The Ollama API is now available at 127.0.0.1:11434.\n",
            ">>> Install complete. Run \"ollama\" from the command line.\n"
          ]
        }
      ]
    },
    {
      "cell_type": "markdown",
      "source": [
        "2. Start Ollama using `ollama serve`. This needs to run in the backgound - so we run it using `nohup` (to see the output log, open nohup.out)."
      ],
      "metadata": {
        "id": "5KrkKX5JuoiA"
      }
    },
    {
      "cell_type": "code",
      "source": [
        "!nohup ollama serve > nohup.out 2>&1 &"
      ],
      "metadata": {
        "id": "Yp1cSSPn5FUQ"
      },
      "execution_count": 8,
      "outputs": []
    },
    {
      "cell_type": "markdown",
      "source": [
        "3. Pull the desired model. We're going to be using `llama1-uncensored` (takes about 1m to download)"
      ],
      "metadata": {
        "id": "HNqBkxbVu4af"
      }
    },
    {
      "cell_type": "code",
      "source": [
        "%%capture\n",
        "!ollama pull llama2-uncensored"
      ],
      "metadata": {
        "id": "S8HKNK7k5Xze"
      },
      "execution_count": 9,
      "outputs": []
    },
    {
      "cell_type": "markdown",
      "source": [
        "In this next part we're going to be writing functions that accept user question, retrieve the relevant paragraphs from lancedb, and the pass the question and the retrieved pages as input into the ollama chat assistant"
      ],
      "metadata": {
        "id": "YxgV6a4O8J7n"
      }
    },
    {
      "cell_type": "markdown",
      "source": [
        "4. pip install ollama and import it"
      ],
      "metadata": {
        "id": "K5FCqdt-vCAt"
      }
    },
    {
      "cell_type": "code",
      "source": [
        "!pip install ollama"
      ],
      "metadata": {
        "colab": {
          "base_uri": "https://localhost:8080/"
        },
        "id": "sQhykrlGZoId",
        "outputId": "d3619ef0-416b-4403-cf6a-4f8c58404949"
      },
      "execution_count": 10,
      "outputs": [
        {
          "output_type": "stream",
          "name": "stdout",
          "text": [
            "Requirement already satisfied: ollama in /usr/local/lib/python3.10/dist-packages (0.3.0)\n",
            "Requirement already satisfied: httpx<0.28.0,>=0.27.0 in /usr/local/lib/python3.10/dist-packages (from ollama) (0.27.0)\n",
            "Requirement already satisfied: anyio in /usr/local/lib/python3.10/dist-packages (from httpx<0.28.0,>=0.27.0->ollama) (3.7.1)\n",
            "Requirement already satisfied: certifi in /usr/local/lib/python3.10/dist-packages (from httpx<0.28.0,>=0.27.0->ollama) (2024.7.4)\n",
            "Requirement already satisfied: httpcore==1.* in /usr/local/lib/python3.10/dist-packages (from httpx<0.28.0,>=0.27.0->ollama) (1.0.5)\n",
            "Requirement already satisfied: idna in /usr/local/lib/python3.10/dist-packages (from httpx<0.28.0,>=0.27.0->ollama) (3.7)\n",
            "Requirement already satisfied: sniffio in /usr/local/lib/python3.10/dist-packages (from httpx<0.28.0,>=0.27.0->ollama) (1.3.1)\n",
            "Requirement already satisfied: h11<0.15,>=0.13 in /usr/local/lib/python3.10/dist-packages (from httpcore==1.*->httpx<0.28.0,>=0.27.0->ollama) (0.14.0)\n",
            "Requirement already satisfied: exceptiongroup in /usr/local/lib/python3.10/dist-packages (from anyio->httpx<0.28.0,>=0.27.0->ollama) (1.2.2)\n"
          ]
        }
      ]
    },
    {
      "cell_type": "code",
      "source": [
        "import ollama"
      ],
      "metadata": {
        "id": "2M4T3gF0bQQV"
      },
      "execution_count": 11,
      "outputs": []
    },
    {
      "cell_type": "markdown",
      "source": [
        "5. Write a function that can retrieve content from lancedb relevant to the user query\n",
        "  \n",
        "  With LanceDB, you don't have to explicity embed the question. LanceDB stores information on the embedding model used and automatically embeds the question.\n",
        "\n",
        "  We use the `db_table.search()` function to query the DB and then limit it to the top 2 most similar results and return that as the context to pass to the RAG.\n",
        "\n",
        "  Limiting results is important because otherwise there might be too much confusing information. Similarly only picking the top choice might not give enough information."
      ],
      "metadata": {
        "id": "Nd2AzTLnvIuZ"
      }
    },
    {
      "cell_type": "code",
      "source": [
        "def retrieve_context_from_lancedb(dbtable, question, top_k=2):\n",
        "\n",
        "    query_results = dbtable.search(query=question).to_list()\n",
        "    context = \"\\n\".join([result[\"content\"] for result in query_results[:top_k]])\n",
        "\n",
        "    return context"
      ],
      "metadata": {
        "id": "c1rSQm33qx2r"
      },
      "execution_count": 12,
      "outputs": []
    },
    {
      "cell_type": "markdown",
      "source": [
        "6. Finally we define a very basic RAG. We define a simple system prompt, retrieve the relevant context for the user query with the function defined above and then send the user question and the context to the `llama2-uncensored` model."
      ],
      "metadata": {
        "id": "MLiwo22GsVSa"
      }
    },
    {
      "cell_type": "code",
      "source": [
        "def main():\n",
        "  # Connect to the lancedb table\n",
        "  db = lancedb.connect(\".lancedb\")\n",
        "  dbtable = db.open_table(\"notion_pages___employee_handbook\")\n",
        "\n",
        "  # A system prompt telling ollama to accept input in the form of \"Question: ... ; Context: ...\"\n",
        "  messages = [\n",
        "      {\"role\": \"system\", \"content\": \"You are a helpful assistant that helps users understand policies inside a company's employee handbook. The user will first ask you a question and then provide you relevant paragraphs from the handbook as context. Please answer the question based on the provided context. For any details missing in the paragraph, encourage the employee to contact the HR for that information. Please keep the responses conversational.\"}\n",
        "  ]\n",
        "\n",
        "  while True:\n",
        "    # Accept user question\n",
        "    question = input(\"You: \")\n",
        "\n",
        "    # Retrieve the relevant paragraphs on the question\n",
        "    context = retrieve_context_from_lancedb(dbtable,question,top_k=2)\n",
        "\n",
        "    # Create a user prompt using the question and retrieved context\n",
        "    messages.append(\n",
        "        {\"role\": \"user\", \"content\": f\"Question: '{question}'; Context:'{context}'\"}\n",
        "    )\n",
        "\n",
        "    # Get the response from the LLM\n",
        "    response = ollama.chat(\n",
        "        model=\"llama2-uncensored\",\n",
        "        messages=messages\n",
        "    )\n",
        "    response_content = response['message']['content']\n",
        "    print(f\"Assistant: {response_content}\")\n",
        "\n",
        "    # Add the response into the context window\n",
        "    messages.append(\n",
        "        {\"role\": \"assistant\", \"content\":response_content}\n",
        "    )"
      ],
      "metadata": {
        "id": "2OvqfvFU_h3F"
      },
      "execution_count": 13,
      "outputs": []
    },
    {
      "cell_type": "markdown",
      "source": [
        "And we run the RAG! Some example questions you can ask:\n",
        "\n",
        "* How many vacation days do I get?\n",
        "* Can I get maternity leave?\n",
        "\n",
        "**Note**: This is a very basic implementation of a RAG, since this workshop is mainly about data ingestion. So expect some weird answers. If you do stop and restart the cell, you will need to rerun the cell containing `ollama serve` first."
      ],
      "metadata": {
        "id": "OLlMA3pcq4RC"
      }
    },
    {
      "cell_type": "code",
      "source": [
        "main()"
      ],
      "metadata": {
        "colab": {
          "base_uri": "https://localhost:8080/",
          "height": 480
        },
        "id": "lCcHrjymfdgE",
        "outputId": "ca91acdc-5880-48c5-94af-c3d4311e4ef4"
      },
      "execution_count": 14,
      "outputs": [
        {
          "name": "stdout",
          "output_type": "stream",
          "text": [
            "You: PTO\n"
          ]
        },
        {
          "output_type": "stream",
          "name": "stderr",
          "text": [
            "/usr/local/lib/python3.10/dist-packages/huggingface_hub/utils/_token.py:89: UserWarning: \n",
            "The secret `HF_TOKEN` does not exist in your Colab secrets.\n",
            "To authenticate with the Hugging Face Hub, create a token in your settings tab (https://huggingface.co/settings/tokens), set it as secret in your Google Colab and restart your session.\n",
            "You will be able to reuse this secret in all of your notebooks.\n",
            "Please note that authentication is recommended but still optional to access public models or datasets.\n",
            "  warnings.warn(\n"
          ]
        },
        {
          "output_type": "stream",
          "name": "stdout",
          "text": [
            "Assistant: Based on the provided paragraphs from the employee handbook, it appears that employees receive 20 days of paid time off (PTO) per year. They can use PTO at any time after their first week with the company and they earn one additional day per year up to a maximum of 25 days overall. If you want to take PTO, send a request through your HRIS system and if approved by your manager or HR, you are permitted to do so. You do not need to specify a reason for requesting PTO. However, if you leave the company without using all of your accrued PTO, you may be compensated for it with your final paycheck according to local law. If there is no provision in local law, employees who were not terminated for cause will receive compensation for unused PTO.\n",
            "These holidays are considered \"off-days\" for most employees and if you need a team member to work on a holiday, inform them at least three days in advance. If you are an exempt employee working on a holiday, you will be given an additional day of paid time off that must be taken within 12 months after the holiday.\n",
            "I hope this helps! Let me know if you have any more questions.\n"
          ]
        },
        {
          "output_type": "error",
          "ename": "KeyboardInterrupt",
          "evalue": "Interrupted by user",
          "traceback": [
            "\u001b[0;31m---------------------------------------------------------------------------\u001b[0m",
            "\u001b[0;31mKeyboardInterrupt\u001b[0m                         Traceback (most recent call last)",
            "\u001b[0;32m<ipython-input-14-263240bbee7e>\u001b[0m in \u001b[0;36m<cell line: 1>\u001b[0;34m()\u001b[0m\n\u001b[0;32m----> 1\u001b[0;31m \u001b[0mmain\u001b[0m\u001b[0;34m(\u001b[0m\u001b[0;34m)\u001b[0m\u001b[0;34m\u001b[0m\u001b[0;34m\u001b[0m\u001b[0m\n\u001b[0m",
            "\u001b[0;32m<ipython-input-13-ee7210741538>\u001b[0m in \u001b[0;36mmain\u001b[0;34m()\u001b[0m\n\u001b[1;32m     11\u001b[0m   \u001b[0;32mwhile\u001b[0m \u001b[0;32mTrue\u001b[0m\u001b[0;34m:\u001b[0m\u001b[0;34m\u001b[0m\u001b[0;34m\u001b[0m\u001b[0m\n\u001b[1;32m     12\u001b[0m     \u001b[0;31m# Accept user question\u001b[0m\u001b[0;34m\u001b[0m\u001b[0;34m\u001b[0m\u001b[0m\n\u001b[0;32m---> 13\u001b[0;31m     \u001b[0mquestion\u001b[0m \u001b[0;34m=\u001b[0m \u001b[0minput\u001b[0m\u001b[0;34m(\u001b[0m\u001b[0;34m\"You: \"\u001b[0m\u001b[0;34m)\u001b[0m\u001b[0;34m\u001b[0m\u001b[0;34m\u001b[0m\u001b[0m\n\u001b[0m\u001b[1;32m     14\u001b[0m \u001b[0;34m\u001b[0m\u001b[0m\n\u001b[1;32m     15\u001b[0m     \u001b[0;31m# Retrieve the relevant paragraphs on the question\u001b[0m\u001b[0;34m\u001b[0m\u001b[0;34m\u001b[0m\u001b[0m\n",
            "\u001b[0;32m/usr/local/lib/python3.10/dist-packages/ipykernel/kernelbase.py\u001b[0m in \u001b[0;36mraw_input\u001b[0;34m(self, prompt)\u001b[0m\n\u001b[1;32m    849\u001b[0m                 \u001b[0;34m\"raw_input was called, but this frontend does not support input requests.\"\u001b[0m\u001b[0;34m\u001b[0m\u001b[0;34m\u001b[0m\u001b[0m\n\u001b[1;32m    850\u001b[0m             )\n\u001b[0;32m--> 851\u001b[0;31m         return self._input_request(str(prompt),\n\u001b[0m\u001b[1;32m    852\u001b[0m             \u001b[0mself\u001b[0m\u001b[0;34m.\u001b[0m\u001b[0m_parent_ident\u001b[0m\u001b[0;34m,\u001b[0m\u001b[0;34m\u001b[0m\u001b[0;34m\u001b[0m\u001b[0m\n\u001b[1;32m    853\u001b[0m             \u001b[0mself\u001b[0m\u001b[0;34m.\u001b[0m\u001b[0m_parent_header\u001b[0m\u001b[0;34m,\u001b[0m\u001b[0;34m\u001b[0m\u001b[0;34m\u001b[0m\u001b[0m\n",
            "\u001b[0;32m/usr/local/lib/python3.10/dist-packages/ipykernel/kernelbase.py\u001b[0m in \u001b[0;36m_input_request\u001b[0;34m(self, prompt, ident, parent, password)\u001b[0m\n\u001b[1;32m    893\u001b[0m             \u001b[0;32mexcept\u001b[0m \u001b[0mKeyboardInterrupt\u001b[0m\u001b[0;34m:\u001b[0m\u001b[0;34m\u001b[0m\u001b[0;34m\u001b[0m\u001b[0m\n\u001b[1;32m    894\u001b[0m                 \u001b[0;31m# re-raise KeyboardInterrupt, to truncate traceback\u001b[0m\u001b[0;34m\u001b[0m\u001b[0;34m\u001b[0m\u001b[0m\n\u001b[0;32m--> 895\u001b[0;31m                 \u001b[0;32mraise\u001b[0m \u001b[0mKeyboardInterrupt\u001b[0m\u001b[0;34m(\u001b[0m\u001b[0;34m\"Interrupted by user\"\u001b[0m\u001b[0;34m)\u001b[0m \u001b[0;32mfrom\u001b[0m \u001b[0;32mNone\u001b[0m\u001b[0;34m\u001b[0m\u001b[0;34m\u001b[0m\u001b[0m\n\u001b[0m\u001b[1;32m    896\u001b[0m             \u001b[0;32mexcept\u001b[0m \u001b[0mException\u001b[0m \u001b[0;32mas\u001b[0m \u001b[0me\u001b[0m\u001b[0;34m:\u001b[0m\u001b[0;34m\u001b[0m\u001b[0;34m\u001b[0m\u001b[0m\n\u001b[1;32m    897\u001b[0m                 \u001b[0mself\u001b[0m\u001b[0;34m.\u001b[0m\u001b[0mlog\u001b[0m\u001b[0;34m.\u001b[0m\u001b[0mwarning\u001b[0m\u001b[0;34m(\u001b[0m\u001b[0;34m\"Invalid Message:\"\u001b[0m\u001b[0;34m,\u001b[0m \u001b[0mexc_info\u001b[0m\u001b[0;34m=\u001b[0m\u001b[0;32mTrue\u001b[0m\u001b[0;34m)\u001b[0m\u001b[0;34m\u001b[0m\u001b[0;34m\u001b[0m\u001b[0m\n",
            "\u001b[0;31mKeyboardInterrupt\u001b[0m: Interrupted by user"
          ]
        }
      ]
    },
    {
      "cell_type": "markdown",
      "source": [
        "There's a lot more to learn and do with dlt and LanceDB, find more info the [dlt docs](https://dlthub.com/docs/) and the [LanceDB docs](https://lancedb.github.io/lancedb/)\n",
        "\n",
        "If you have questions about this workshop or dlt, feel free to join our [community on Slack](https://dlthub.com/community).\n",
        "\n",
        "If you're at EuroPython in Prague this week, come see us at our booth!"
      ],
      "metadata": {
        "id": "umpLwREgwyDi"
      }
    }
  ]
}