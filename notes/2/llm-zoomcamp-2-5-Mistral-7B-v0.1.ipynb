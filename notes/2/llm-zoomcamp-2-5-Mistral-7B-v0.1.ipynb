{
 "cells": [
  {
   "cell_type": "markdown",
   "id": "f5af0264-ca1f-46a7-ab6f-957c3269d7ad",
   "metadata": {},
   "source": [
    "# Environment setup"
   ]
  },
  {
   "cell_type": "code",
   "execution_count": 1,
   "id": "02eb1e48-9881-4967-b916-477b01f80b56",
   "metadata": {
    "execution": {
     "iopub.execute_input": "2024-07-06T21:37:35.616731Z",
     "iopub.status.busy": "2024-07-06T21:37:35.616028Z",
     "iopub.status.idle": "2024-07-06T21:37:36.341635Z",
     "shell.execute_reply": "2024-07-06T21:37:36.340873Z",
     "shell.execute_reply.started": "2024-07-06T21:37:35.616697Z"
    },
    "tags": []
   },
   "outputs": [
    {
     "name": "stdout",
     "output_type": "stream",
     "text": [
      "Sat Jul  6 21:37:36 2024       \n",
      "+---------------------------------------------------------------------------------------+\n",
      "| NVIDIA-SMI 535.183.01             Driver Version: 535.183.01   CUDA Version: 12.2     |\n",
      "|-----------------------------------------+----------------------+----------------------+\n",
      "| GPU  Name                 Persistence-M | Bus-Id        Disp.A | Volatile Uncorr. ECC |\n",
      "| Fan  Temp   Perf          Pwr:Usage/Cap |         Memory-Usage | GPU-Util  Compute M. |\n",
      "|                                         |                      |               MIG M. |\n",
      "|=========================================+======================+======================|\n",
      "|   0  Tesla T4                       On  | 00000000:00:1E.0 Off |                    0 |\n",
      "| N/A   31C    P8               9W /  70W |      0MiB / 15360MiB |      0%      Default |\n",
      "|                                         |                      |                  N/A |\n",
      "+-----------------------------------------+----------------------+----------------------+\n",
      "                                                                                         \n",
      "+---------------------------------------------------------------------------------------+\n",
      "| Processes:                                                                            |\n",
      "|  GPU   GI   CI        PID   Type   Process name                            GPU Memory |\n",
      "|        ID   ID                                                             Usage      |\n",
      "|=======================================================================================|\n",
      "|  No running processes found                                                           |\n",
      "+---------------------------------------------------------------------------------------+\n"
     ]
    }
   ],
   "source": [
    "!nvidia-smi"
   ]
  },
  {
   "cell_type": "code",
   "execution_count": 2,
   "id": "984a500f-c66c-4542-9723-c10a318f277d",
   "metadata": {
    "execution": {
     "iopub.execute_input": "2024-07-06T21:37:38.135657Z",
     "iopub.status.busy": "2024-07-06T21:37:38.135261Z",
     "iopub.status.idle": "2024-07-06T21:37:38.738050Z",
     "shell.execute_reply": "2024-07-06T21:37:38.737272Z",
     "shell.execute_reply.started": "2024-07-06T21:37:38.135632Z"
    },
    "tags": []
   },
   "outputs": [
    {
     "name": "stdout",
     "output_type": "stream",
     "text": [
      "Filesystem      Size  Used Avail Use% Mounted on\n",
      "overlay         100G   28G   73G  28% /\n",
      "tmpfs            64M     0   64M   0% /dev\n",
      "tmpfs           7.7G     0  7.7G   0% /sys/fs/cgroup\n",
      "/dev/nvme0n1p1  100G   28G   73G  28% /run\n",
      "tmpfs            14G     0   14G   0% /dev/shm\n",
      "/dev/nvme2n1    2.0G  132M  1.8G   7% /home/jovyan\n",
      "tmpfs            14G  120K   14G   1% /home/jovyan/.saturn\n",
      "tmpfs            14G   12K   14G   1% /run/secrets/kubernetes.io/serviceaccount\n",
      "tmpfs           7.7G   12K  7.7G   1% /proc/driver/nvidia\n",
      "tmpfs           7.7G  3.4M  7.7G   1% /run/nvidia-persistenced/socket\n",
      "tmpfs           7.7G     0  7.7G   0% /proc/acpi\n",
      "tmpfs           7.7G     0  7.7G   0% /sys/firmware\n"
     ]
    }
   ],
   "source": [
    "!df -h"
   ]
  },
  {
   "cell_type": "code",
   "execution_count": 3,
   "id": "172fd517-5dd6-4364-9f2f-70cb7c8f3833",
   "metadata": {
    "execution": {
     "iopub.execute_input": "2024-07-06T21:37:41.601186Z",
     "iopub.status.busy": "2024-07-06T21:37:41.600787Z",
     "iopub.status.idle": "2024-07-06T21:37:41.605235Z",
     "shell.execute_reply": "2024-07-06T21:37:41.604388Z",
     "shell.execute_reply.started": "2024-07-06T21:37:41.601157Z"
    },
    "tags": []
   },
   "outputs": [],
   "source": [
    "import os\n",
    "os.environ['HF_HOME'] = '/run/cache/'"
   ]
  },
  {
   "cell_type": "code",
   "execution_count": 4,
   "id": "8638e247-25c0-447b-af88-5cc106a03e89",
   "metadata": {
    "execution": {
     "iopub.execute_input": "2024-07-06T21:37:42.659072Z",
     "iopub.status.busy": "2024-07-06T21:37:42.658692Z",
     "iopub.status.idle": "2024-07-06T21:37:47.015375Z",
     "shell.execute_reply": "2024-07-06T21:37:47.014058Z",
     "shell.execute_reply.started": "2024-07-06T21:37:42.659045Z"
    },
    "tags": []
   },
   "outputs": [
    {
     "name": "stdout",
     "output_type": "stream",
     "text": [
      "/run/cache/hub\n"
     ]
    }
   ],
   "source": [
    "from transformers import TRANSFORMERS_CACHE\n",
    "print(TRANSFORMERS_CACHE)\n",
    "import shutil\n",
    "shutil.rmtree(TRANSFORMERS_CACHE)"
   ]
  },
  {
   "cell_type": "markdown",
   "id": "8ecc1dec-db7a-423e-ab47-a8d1b79c8990",
   "metadata": {},
   "source": [
    "# Running Mistral-7B-v0.1 model on a GPU\n",
    "Sources:\n",
    "* https://huggingface.co/mistralai/Mistral-7B-v0.1\n",
    "* https://huggingface.co/docs/transformers/en/llm_tutorial"
   ]
  },
  {
   "cell_type": "code",
   "execution_count": 5,
   "id": "343576ad-a145-450e-ab23-64d8553432a3",
   "metadata": {
    "execution": {
     "iopub.execute_input": "2024-07-06T21:37:47.017065Z",
     "iopub.status.busy": "2024-07-06T21:37:47.016671Z",
     "iopub.status.idle": "2024-07-06T21:37:47.086945Z",
     "shell.execute_reply": "2024-07-06T21:37:47.086305Z",
     "shell.execute_reply.started": "2024-07-06T21:37:47.017035Z"
    },
    "tags": []
   },
   "outputs": [],
   "source": [
    "from transformers import AutoModelForCausalLM\n",
    "from transformers import AutoTokenizer"
   ]
  },
  {
   "cell_type": "code",
   "execution_count": null,
   "id": "0aaf5c4d-5be7-4912-9ebd-1d43300df2d9",
   "metadata": {
    "execution": {
     "iopub.execute_input": "2024-07-06T21:37:49.386667Z",
     "iopub.status.busy": "2024-07-06T21:37:49.386280Z",
     "iopub.status.idle": "2024-07-06T21:41:24.298125Z",
     "shell.execute_reply": "2024-07-06T21:41:24.297353Z",
     "shell.execute_reply.started": "2024-07-06T21:37:49.386640Z"
    },
    "tags": []
   },
   "outputs": [],
   "source": [
    "model = AutoModelForCausalLM.from_pretrained(\n",
    "    \"mistralai/Mistral-7B-v0.1\", device_map=\"auto\", load_in_4bit=True\n",
    ")\n",
    "tokenizer = AutoTokenizer.from_pretrained(\"mistralai/Mistral-7B-v0.1\", padding_side=\"left\")"
   ]
  },
  {
   "cell_type": "code",
   "execution_count": 7,
   "id": "22030e84-9b0f-48a6-bbde-731a4d27a634",
   "metadata": {
    "execution": {
     "iopub.execute_input": "2024-07-06T21:41:24.300504Z",
     "iopub.status.busy": "2024-07-06T21:41:24.299814Z",
     "iopub.status.idle": "2024-07-06T21:41:24.307277Z",
     "shell.execute_reply": "2024-07-06T21:41:24.306711Z",
     "shell.execute_reply.started": "2024-07-06T21:41:24.300459Z"
    },
    "tags": []
   },
   "outputs": [],
   "source": [
    "model_inputs = tokenizer([\"A list of colors: red, blue\"], return_tensors=\"pt\").to(\"cuda\")"
   ]
  },
  {
   "cell_type": "code",
   "execution_count": 8,
   "id": "7d577c4a-0273-4f11-ad0f-cabca9a828d1",
   "metadata": {
    "execution": {
     "iopub.execute_input": "2024-07-06T21:41:24.308574Z",
     "iopub.status.busy": "2024-07-06T21:41:24.308192Z",
     "iopub.status.idle": "2024-07-06T21:41:27.309199Z",
     "shell.execute_reply": "2024-07-06T21:41:27.308341Z",
     "shell.execute_reply.started": "2024-07-06T21:41:24.308539Z"
    },
    "tags": []
   },
   "outputs": [
    {
     "name": "stderr",
     "output_type": "stream",
     "text": [
      "Setting `pad_token_id` to `eos_token_id`:2 for open-end generation.\n",
      "/opt/saturncloud/envs/saturn/lib/python3.10/site-packages/transformers/generation/utils.py:1249: UserWarning: Using the model-agnostic default `max_length` (=20) to control the generation length. We recommend setting `max_new_tokens` to control the maximum length of the generation.\n",
      "  warnings.warn(\n",
      "/opt/saturncloud/envs/saturn/lib/python3.10/site-packages/bitsandbytes/nn/modules.py:426: UserWarning: Input type into Linear4bit is torch.float16, but bnb_4bit_compute_dtype=torch.float32 (default). This will lead to slow inference or training speed.\n",
      "  warnings.warn(\n"
     ]
    },
    {
     "data": {
      "text/plain": [
       "'A list of colors: red, blue, green, yellow, orange, purple, pink,'"
      ]
     },
     "execution_count": 8,
     "metadata": {},
     "output_type": "execute_result"
    }
   ],
   "source": [
    "generated_ids = model.generate(**model_inputs)\n",
    "tokenizer.batch_decode(generated_ids, skip_special_tokens=True)[0]"
   ]
  },
  {
   "cell_type": "markdown",
   "id": "de6682f8-5ca1-48c0-800a-42b75e9520a1",
   "metadata": {},
   "source": [
    "# Building RAG with Mistral-7B-v0.1\n",
    "Source: https://github.com/DataTalksClub/llm-zoomcamp/blob/main/02-open-source/huggingface-mistral-7b.ipynb"
   ]
  },
  {
   "cell_type": "code",
   "execution_count": null,
   "id": "d67a7cd8-7b44-4468-86c8-c6e6a9407dd9",
   "metadata": {
    "execution": {
     "iopub.execute_input": "2024-07-06T21:42:13.431619Z",
     "iopub.status.busy": "2024-07-06T21:42:13.431226Z",
     "iopub.status.idle": "2024-07-06T21:42:14.815134Z",
     "shell.execute_reply": "2024-07-06T21:42:14.814322Z",
     "shell.execute_reply.started": "2024-07-06T21:42:13.431591Z"
    },
    "tags": []
   },
   "outputs": [],
   "source": [
    "!rm -f minsearch.py\n",
    "!wget https://raw.githubusercontent.com/alexeygrigorev/minsearch/main/minsearch.py"
   ]
  },
  {
   "cell_type": "code",
   "execution_count": 10,
   "id": "60c844e0-686f-41c8-90e1-799e018d8dc7",
   "metadata": {
    "execution": {
     "iopub.execute_input": "2024-07-06T21:42:17.994940Z",
     "iopub.status.busy": "2024-07-06T21:42:17.994519Z",
     "iopub.status.idle": "2024-07-06T21:42:22.303214Z",
     "shell.execute_reply": "2024-07-06T21:42:22.302492Z",
     "shell.execute_reply.started": "2024-07-06T21:42:17.994910Z"
    },
    "tags": []
   },
   "outputs": [
    {
     "data": {
      "text/plain": [
       "<minsearch.Index at 0x7f2554ae1e70>"
      ]
     },
     "execution_count": 10,
     "metadata": {},
     "output_type": "execute_result"
    }
   ],
   "source": [
    "import requests \n",
    "import minsearch\n",
    "\n",
    "docs_url = 'https://github.com/DataTalksClub/llm-zoomcamp/blob/main/01-intro/documents.json?raw=1'\n",
    "docs_response = requests.get(docs_url)\n",
    "documents_raw = docs_response.json()\n",
    "\n",
    "documents = []\n",
    "\n",
    "for course in documents_raw:\n",
    "    course_name = course['course']\n",
    "\n",
    "    for doc in course['documents']:\n",
    "        doc['course'] = course_name\n",
    "        documents.append(doc)\n",
    "\n",
    "index = minsearch.Index(\n",
    "    text_fields=[\"question\", \"text\", \"section\"],\n",
    "    keyword_fields=[\"course\"]\n",
    ")\n",
    "\n",
    "index.fit(documents)"
   ]
  },
  {
   "cell_type": "code",
   "execution_count": 11,
   "id": "998e38a9-5b51-4c2b-ba55-1495181c19cc",
   "metadata": {
    "execution": {
     "iopub.execute_input": "2024-07-06T21:42:22.304916Z",
     "iopub.status.busy": "2024-07-06T21:42:22.304465Z",
     "iopub.status.idle": "2024-07-06T21:42:22.309117Z",
     "shell.execute_reply": "2024-07-06T21:42:22.308274Z",
     "shell.execute_reply.started": "2024-07-06T21:42:22.304885Z"
    },
    "tags": []
   },
   "outputs": [],
   "source": [
    "def search(query):\n",
    "    boost = {'question': 3.0, 'section': 0.5}\n",
    "\n",
    "    results = index.search(\n",
    "        query=query,\n",
    "        filter_dict={'course': 'data-engineering-zoomcamp'},\n",
    "        boost_dict=boost,\n",
    "        num_results=5\n",
    "    )\n",
    "\n",
    "    return results"
   ]
  },
  {
   "cell_type": "code",
   "execution_count": 30,
   "id": "61606f2e-0f56-4f9d-b2dc-18ee7d515b54",
   "metadata": {
    "execution": {
     "iopub.execute_input": "2024-07-06T21:56:51.507872Z",
     "iopub.status.busy": "2024-07-06T21:56:51.507488Z",
     "iopub.status.idle": "2024-07-06T21:56:51.513173Z",
     "shell.execute_reply": "2024-07-06T21:56:51.512279Z",
     "shell.execute_reply.started": "2024-07-06T21:56:51.507844Z"
    },
    "tags": []
   },
   "outputs": [],
   "source": [
    "def build_prompt(query, search_results):\n",
    "    prompt_template = \"\"\"\n",
    "QUESTION: {question}\n",
    "\n",
    "CONTEXT:\n",
    "{context}\n",
    "\n",
    "ANSWER:\n",
    "\"\"\".strip()\n",
    "\n",
    "    context = \"\"\n",
    "    \n",
    "    for doc in search_results:\n",
    "        context = context + f\"section: {doc['section']}\\nquestion: {doc['question']}\\nanswer: {doc['text']}\\n\\n\"\n",
    "    \n",
    "    prompt = prompt_template.format(question=query, context=context).strip()\n",
    "    return prompt\n",
    "\n",
    "def llm(prompt):\n",
    "    model_inputs = tokenizer([prompt], return_tensors=\"pt\").to(\"cuda\")\n",
    "    generated_ids = model.generate(**model_inputs, max_new_tokens=300)\n",
    "    result = tokenizer.batch_decode(generated_ids, skip_special_tokens=True)[0]\n",
    "    return result[len(prompt):].strip()"
   ]
  },
  {
   "cell_type": "code",
   "execution_count": 31,
   "id": "9fecd4f8-dbe5-4eb6-b100-88a901d1dc77",
   "metadata": {
    "execution": {
     "iopub.execute_input": "2024-07-06T21:56:52.443474Z",
     "iopub.status.busy": "2024-07-06T21:56:52.443078Z",
     "iopub.status.idle": "2024-07-06T21:56:52.447478Z",
     "shell.execute_reply": "2024-07-06T21:56:52.446586Z",
     "shell.execute_reply.started": "2024-07-06T21:56:52.443446Z"
    },
    "tags": []
   },
   "outputs": [],
   "source": [
    "def rag(query):\n",
    "    search_results = search(query)\n",
    "    prompt = build_prompt(query, search_results)\n",
    "    answer = llm(prompt)\n",
    "    return answer"
   ]
  },
  {
   "cell_type": "code",
   "execution_count": 32,
   "id": "b2716e75-716c-4ea1-8289-d8ee43367ef0",
   "metadata": {
    "execution": {
     "iopub.execute_input": "2024-07-06T21:56:53.478427Z",
     "iopub.status.busy": "2024-07-06T21:56:53.478039Z",
     "iopub.status.idle": "2024-07-06T21:57:19.826528Z",
     "shell.execute_reply": "2024-07-06T21:57:19.825802Z",
     "shell.execute_reply.started": "2024-07-06T21:56:53.478400Z"
    },
    "tags": []
   },
   "outputs": [
    {
     "name": "stderr",
     "output_type": "stream",
     "text": [
      "Setting `pad_token_id` to `eos_token_id`:2 for open-end generation.\n"
     ]
    },
    {
     "data": {
      "text/plain": [
       "'Yes, you can still join the course.'"
      ]
     },
     "execution_count": 32,
     "metadata": {},
     "output_type": "execute_result"
    }
   ],
   "source": [
    "rag(\"I just discovered thie course. Can I still join it?\")"
   ]
  }
 ],
 "metadata": {
  "kernelspec": {
   "display_name": "saturn (Python 3)",
   "language": "python",
   "name": "python3"
  },
  "language_info": {
   "codemirror_mode": {
    "name": "ipython",
    "version": 3
   },
   "file_extension": ".py",
   "mimetype": "text/x-python",
   "name": "python",
   "nbconvert_exporter": "python",
   "pygments_lexer": "ipython3",
   "version": "3.10.13"
  }
 },
 "nbformat": 4,
 "nbformat_minor": 5
}
